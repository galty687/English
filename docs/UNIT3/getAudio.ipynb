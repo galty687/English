{
 "cells": [
  {
   "cell_type": "code",
   "execution_count": 1,
   "metadata": {},
   "outputs": [
    {
     "name": "stdout",
     "output_type": "stream",
     "text": [
      "Got the page\n"
     ]
    }
   ],
   "source": [
    "import requests\n",
    "\n",
    "def get_html_content(url):\n",
    "    try:\n",
    "        headers = {\n",
    "            'User-Agent': 'Mozilla/5.0 (Windows NT 10.0; Win64; x64) AppleWebKit/537.36 (KHTML, like Gecko) Chrome/58.0.3029.110 Safari/537.3'\n",
    "        }\n",
    "        with requests.Session() as session:\n",
    "            session.headers.update(headers)\n",
    "            response = session.get(url)\n",
    "            response.raise_for_status()  # Raise an exception for HTTP errors\n",
    "            return response.text\n",
    "    except requests.RequestException as e:\n",
    "        print(f\"Error fetching URL {url}: {e}\")\n",
    "        return None\n",
    "\n",
    "# Sample URL\n",
    "word = 'pry'\n",
    "url = \"https://www.oed.com/dictionary/pry_v1?tab=factsheet#27690280\"\n",
    "\n",
    "content = get_html_content(url)\n",
    "if content:\n",
    "    # Print the first 500 characters for demonstration\n",
    "    print('Got the page')\n"
   ]
  },
  {
   "cell_type": "code",
   "execution_count": 6,
   "metadata": {},
   "outputs": [],
   "source": [
    "from bs4 import BeautifulSoup\n",
    "\n",
    "def extract_pronunciation_urls(html_content):\n",
    "    soup = BeautifulSoup(html_content, 'html.parser')\n",
    "    \n",
    "    # Find all buttons with the class 'pronunciation-play-button'\n",
    "    buttons = soup.find_all('button', class_='pronunciation-play-button')\n",
    "    \n",
    "    # Extract URLs from the 'data-src-mp3' attribute\n",
    "    urls = [btn['data-src-mp3'] for btn in buttons if btn.has_attr('data-src-mp3')]\n",
    "    \n",
    "    return urls\n",
    "\n",
    "# Sample HTML content (you can replace this with the actual content you fetched)\n",
    "\n",
    "\n"
   ]
  },
  {
   "cell_type": "code",
   "execution_count": 8,
   "metadata": {},
   "outputs": [],
   "source": [
    "def download_mp3(word, url):\n",
    "    # Detect country from the URL\n",
    "    if '__gb_' in url:\n",
    "        country = 'gb'\n",
    "    elif '__us_' in url:\n",
    "        country = 'us'\n",
    "    else:\n",
    "        print(f\"Could not detect country from URL: {url}\")\n",
    "        return\n",
    "\n",
    "    try:\n",
    "        # Fetch the MP3 content from the URL\n",
    "        response = requests.get(url)\n",
    "        response.raise_for_status()\n",
    "\n",
    "        # Construct the filename using the pattern\n",
    "        filename = f\"{word}_{country}.mp3\"\n",
    "\n",
    "        # Save the MP3 content to a file\n",
    "        with open(filename, 'wb') as f:\n",
    "            f.write(response.content)\n",
    "        \n",
    "        print(f\"Downloaded and saved as {filename}\")\n",
    "    \n",
    "    except requests.RequestException as e:\n",
    "        print(f\"Error downloading from {url}: {e}\")\n",
    "\n",
    "# Sample usage\n",
    "\n",
    "\n"
   ]
  }
 ],
 "metadata": {
  "kernelspec": {
   "display_name": "Python 3",
   "language": "python",
   "name": "python3"
  },
  "language_info": {
   "codemirror_mode": {
    "name": "ipython",
    "version": 3
   },
   "file_extension": ".py",
   "mimetype": "text/x-python",
   "name": "python",
   "nbconvert_exporter": "python",
   "pygments_lexer": "ipython3",
   "version": "3.10.10"
  }
 },
 "nbformat": 4,
 "nbformat_minor": 2
}
