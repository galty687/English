{
 "cells": [
  {
   "cell_type": "code",
   "execution_count": 2,
   "metadata": {},
   "outputs": [],
   "source": [
    "import requests\n",
    "\n",
    "def download_mp3(url, filename):\n",
    "    response = requests.get(url)\n",
    "    with open(filename, 'wb') as file:\n",
    "        file.write(response.content)\n",
    "\n",
    "# British English Pronunciations\n",
    "download_mp3('https://s3.eu-west-1.amazonaws.com/com.idmgroup.oed100.sounds.prod/mp3/m/ma/mas/mastermind__gb_2.mp3', 'mastermind_british_1.mp3')\n",
    "download_mp3('https://s3.eu-west-1.amazonaws.com/com.idmgroup.oed100.sounds.prod/mp3/m/ma/mas/mastermind__gb_4.mp3', 'mastermind_british_2.mp3')\n",
    "\n",
    "# U.S. English Pronunciation\n",
    "download_mp3('https://s3.eu-west-1.amazonaws.com/com.idmgroup.oed100.sounds.prod/mp3/m/ma/mas/mastermind__us_4.mp3', 'mastermind_american.mp3')\n"
   ]
  },
  {
   "cell_type": "code",
   "execution_count": 3,
   "metadata": {},
   "outputs": [
    {
     "name": "stdout",
     "output_type": "stream",
     "text": [
      "HTML generated and saved to 'filled.html'\n"
     ]
    }
   ],
   "source": [
    "from string import Template\n",
    "\n",
    "# Define the HTML template\n",
    "with open(\"template.html\", \"r\") as f:\n",
    "    template_str = f.read()\n",
    "    template = Template(template_str)\n",
    "\n",
    "# Define the word entry template\n",
    "word_entry_template = Template(\"\"\"\n",
    "<div class=\"word-container\">\n",
    "    <div class=\"word\">$word</div>\n",
    "    <div class=\"pronunciation-container\">\n",
    "        <div class=\"pronunciation-box\">\n",
    "            <div class=\"pronunciation-label\">British Pronunciation</div>\n",
    "            <div class=\"pronunciation\">$british_pronunciation</div>\n",
    "            <button class=\"play-button\" onclick=\"playSound('$british_audio_id')\">Play Sound</button>\n",
    "            <audio id=\"$british_audio_id\" src=\"$british_audio_src\"></audio>\n",
    "        </div>\n",
    "        <div class=\"pronunciation-box\">\n",
    "            <div class=\"pronunciation-label\">American Pronunciation</div>\n",
    "            <div class=\"pronunciation\">$american_pronunciation</div>\n",
    "            <button class=\"play-button\" onclick=\"playSound('$american_audio_id')\">Play Sound</button>\n",
    "            <audio id=\"$american_audio_id\" src=\"$american_audio_src\"></audio>\n",
    "        </div>\n",
    "    </div>\n",
    "    <div class=\"sentence\">$sentence</div>\n",
    "</div>\n",
    "\"\"\")\n",
    "\n",
    "# Sample data\n",
    "data = [\n",
    "    {\n",
    "        \"word\": \"Example\",\n",
    "        \"british_pronunciation\": \"/ɪɡˈzæmpl/\",\n",
    "        \"british_audio_src\": \"exampleBritish.mp3\",\n",
    "        \"american_pronunciation\": \"/ɪɡˈzæmpl/\",\n",
    "        \"american_audio_src\": \"exampleAmerican.mp3\",\n",
    "        \"sentence\": \"This is an <span class='word'>example</span> sentence.\"\n",
    "    },\n",
    "    {\n",
    "        \"word\": \"Example2\",\n",
    "        \"british_pronunciation\": \"/ɪɡˈzæmpl/\",\n",
    "        \"british_audio_src\": \"exampleBritish.mp3\",\n",
    "        \"american_pronunciation\": \"/ɪɡˈzæmpl/\",\n",
    "        \"american_audio_src\": \"exampleAmerican.mp3\",\n",
    "        \"sentence\": \"This is an <span class='word'>example</span> sentence.\"\n",
    "    }, \n",
    "    {\n",
    "        \"word\": \"Example\",\n",
    "        \"british_pronunciation\": \"/ɪɡˈzæmpl/\",\n",
    "        \"british_audio_src\": \"exampleBritish.mp3\",\n",
    "        \"american_pronunciation\": \"/ɪɡˈzæmpl/\",\n",
    "        \"american_audio_src\": \"exampleAmerican.mp3\",\n",
    "        \"sentence\": \"This is an <span class='word'>example</span> sentence.\"\n",
    "    },       \n",
    "    # Add more word entries as needed\n",
    "]\n",
    "\n",
    "# Generate word entries\n",
    "word_entries = \"\"\n",
    "for i, entry in enumerate(data):\n",
    "    word_entries += word_entry_template.substitute(\n",
    "        word=entry[\"word\"],\n",
    "        british_pronunciation=entry[\"british_pronunciation\"],\n",
    "        british_audio_src=entry[\"british_audio_src\"],\n",
    "        british_audio_id=f\"audioBritish{i}\",\n",
    "        american_pronunciation=entry[\"american_pronunciation\"],\n",
    "        american_audio_src=entry[\"american_audio_src\"],\n",
    "        american_audio_id=f\"audioAmerican{i}\",\n",
    "        sentence=entry[\"sentence\"]\n",
    "    )\n",
    "\n",
    "# Fill the main template\n",
    "filled_html = template.substitute(word_entries=word_entries)\n",
    "\n",
    "# Save the filled HTML to a file\n",
    "with open(\"filled.html\", \"w\") as f:\n",
    "    f.write(filled_html)\n",
    "\n",
    "print(\"HTML generated and saved to 'filled.html'\")\n"
   ]
  },
  {
   "cell_type": "code",
   "execution_count": 15,
   "metadata": {},
   "outputs": [
    {
     "name": "stdout",
     "output_type": "stream",
     "text": [
      "/Users/zhijungao/Desktop\n"
     ]
    }
   ],
   "source": [
    "import os\n",
    "print(os.getcwd())\n"
   ]
  }
 ],
 "metadata": {
  "kernelspec": {
   "display_name": "Python 3",
   "language": "python",
   "name": "python3"
  },
  "language_info": {
   "codemirror_mode": {
    "name": "ipython",
    "version": 3
   },
   "file_extension": ".py",
   "mimetype": "text/x-python",
   "name": "python",
   "nbconvert_exporter": "python",
   "pygments_lexer": "ipython3",
   "version": "3.10.10"
  }
 },
 "nbformat": 4,
 "nbformat_minor": 2
}
